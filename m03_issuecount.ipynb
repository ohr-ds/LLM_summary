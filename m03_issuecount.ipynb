{
 "cells": [
  {
   "cell_type": "code",
   "execution_count": null,
   "metadata": {},
   "outputs": [],
   "source": [
    "import pandas as pd"
   ]
  },
  {
   "cell_type": "code",
   "execution_count": null,
   "metadata": {},
   "outputs": [],
   "source": [
    "result = pd.read_pickle('result/네이버쇼핑리뷰_감성분석.pkl')"
   ]
  },
  {
   "cell_type": "code",
   "execution_count": null,
   "metadata": {},
   "outputs": [],
   "source": [
    "# 'issue'별 'sentiment' 개수 계산 및 'total' 컬럼 추가 후 내림차순 정렬\n",
    "issue_sentiment_counts = result.groupby(['issue', 'sentiment']).size().unstack(fill_value=0)\n",
    "issue_sentiment_counts['total'] = issue_sentiment_counts.sum(axis=1)\n",
    "issue_sentiment_counts = issue_sentiment_counts.sort_values(by='total', ascending=False)\n",
    "issue_sentiment_counts"
   ]
  }
 ],
 "metadata": {
  "language_info": {
   "name": "python"
  }
 },
 "nbformat": 4,
 "nbformat_minor": 2
}
