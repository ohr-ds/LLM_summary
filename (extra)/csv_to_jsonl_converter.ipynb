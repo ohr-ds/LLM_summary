{
 "cells": [
  {
   "cell_type": "code",
   "execution_count": 5,
   "metadata": {},
   "outputs": [],
   "source": [
    "import pandas as pd\n",
    "import json\n",
    "\n",
    "# todo: config.yaml 파일에서 불러오기\n",
    "system_messages = \"\"\"넌 글을 요약하는 전문가야. 내용을 입력하면 아래 지시사항에 따라 요약해줘.\n",
    "지시사항:\n",
    "1. 원문을 입력하면 주요 테마를 추출해줘.\n",
    "2. 테마와 관련된 구체적인 이슈나 관심사를 나열해줘.\n",
    "3. 테마별 감성 분석 결과를 나열해줘. 각 테마에 대해 매우 긍정, 긍정, 중립, 부정, 매우 부정 중 하나로 표현.\n",
    "4. 원문 전체에 대한 감성 분석 결과를 매우 긍정, 긍정, 중립, 부정, 매우 부정 중 하나로 표현.\n",
    "5. 결과를 포맷에 맞춰 출력해.\n",
    "\n",
    "결과 포맷: \n",
    "[원문]\n",
    "원문 텍스트\n",
    "\n",
    "[theme]\n",
    "원문에서 추출할 주요 테마를 나열\n",
    "\n",
    "[issue]\n",
    "테마와 관련된 구체적인 이슈나 관심사를 나열\n",
    "\n",
    "[sentiment]\n",
    "테마별 감성 분석 결과를 나열. 각 테마에 대해 매우 긍정, 긍정, 중립, 부정, 매우 부정 중 하나로 표현\n",
    "\n",
    "[sentiment(all)]\n",
    "원문 전체에 대한 감성 분석 결과를 매우 긍정, 긍정, 중립, 부정, 매우 부정 중 하나로 표현\"\"\"\n",
    "\n",
    "# todo: py 파일로 만들기.\n",
    "def csv_to_jsonl(csv_file_path, jsonl_file_path):\n",
    "    # CSV 파일 불러오기\n",
    "    df = pd.read_csv(csv_file_path)\n",
    "\n",
    "    # JSONL 파일 저장 경로\n",
    "    jsonl_file_path = jsonl_file_path\n",
    "\n",
    "    # JSONL로 변환할 때 필요한 시스템 메시지\n",
    "    system_message = { # todo: config.yaml 파일에서 불러오기\n",
    "        \"role\": \"system\", \n",
    "        \"content\": system_messages\n",
    "    }\n",
    "\n",
    "    # 필요한 컬럼만 선택\n",
    "    columns_to_use = ['raw_text', 'theme', 'issue', 'sentiment', 'sentiment(all)']\n",
    "    df_filtered = df[columns_to_use]\n",
    "\n",
    "    # JSONL 파일로 변환\n",
    "    with open(jsonl_file_path, 'w', encoding='utf-8') as jsonl_file:\n",
    "        for _, row in df_filtered.iterrows():\n",
    "            # 각 행의 데이터로 JSON 메시지 구조 생성\n",
    "            json_record = {\n",
    "                \"messages\": [\n",
    "                    system_message,\n",
    "                    {\"role\": \"user\", \"content\": f\"[원문]\\n{row['raw_text']}\\n[/원문]\"},\n",
    "                    {\"role\": \"assistant\", \n",
    "                    \"content\": f\"[원문]\\n{row['raw_text']}\\n[/원문]\\n[theme]\\n{row['theme']}\\n[/theme]\\n[issue]\\n{row['issue']}\\n[/issue]\\n[sentiment]\\n{row['sentiment']}\\n[/sentiment]\\n[sentiment(all)]\\n{row['sentiment(all)']}\\n[/sentiment(all)]\"}\n",
    "                ]\n",
    "            }\n",
    "            # 한 줄씩 JSONL 형식으로 저장\n",
    "            jsonl_file.write(json.dumps(json_record, ensure_ascii=False) + '\\n')\n",
    "    return f\"JSONL 파일이 성공적으로 {jsonl_file_path}에 저장되었습니다.\""
   ]
  },
  {
   "cell_type": "code",
   "execution_count": 6,
   "metadata": {},
   "outputs": [
    {
     "data": {
      "text/plain": [
       "'JSONL 파일이 성공적으로 data/test_trainset_fine_tuning.jsonl에 저장되었습니다.'"
      ]
     },
     "execution_count": 6,
     "metadata": {},
     "output_type": "execute_result"
    }
   ],
   "source": [
    "# 테스트\n",
    "csv_to_jsonl('data/trainset_fine_tuning.csv', 'data/test_trainset_fine_tuning.jsonl')"
   ]
  },
  {
   "cell_type": "code",
   "execution_count": 4,
   "metadata": {},
   "outputs": [
    {
     "name": "stdout",
     "output_type": "stream",
     "text": [
      "{'messages': [{'role': 'system', 'content': '넌 글을 요약하는 전문가야. 내용을 입력하면 아래 지시사항에 따라 요약해줘.\\n지시사항:\\n1. 원문을 입력하면 주요 테마를 추출해줘.\\n2. 테마와 관련된 구체적인 이슈나 관심사를 나열해줘.\\n3. 테마별 감성 분석 결과를 나열해줘. 각 테마에 대해 매우 긍정, 긍정, 중립, 부정, 매우 부정 중 하나로 표현.\\n4. 원문 전체에 대한 감성 분석 결과를 매우 긍정, 긍정, 중립, 부정, 매우 부정 중 하나로 표현.\\n5. 결과를 포맷에 맞춰 출력해.'}, {'role': 'user', 'content': '[원문]\\n자취하는데 뭔 티비야 .. 하면서 노트북이나 패드로 유튜브, ott 시청했었는데 확실히 더 큰 화면으로 보니까 너무 조아요설거지하거나 가구 배치 바꿀 때도 쉽게 움직여서 이동시킬 수 있으니까 정말 좋습니다..삶의 질이 향상됐어요 ㅎㅎ\\n[/원문]'}, {'role': 'assistant', 'content': '[원문]\\n자취하는데 뭔 티비야 .. 하면서 노트북이나 패드로 유튜브, ott 시청했었는데 확실히 더 큰 화면으로 보니까 너무 조아요설거지하거나 가구 배치 바꿀 때도 쉽게 움직여서 이동시킬 수 있으니까 정말 좋습니다..삶의 질이 향상됐어요 ㅎㅎ\\n[/원문]\\n[theme]\\n화면 크기, 이동 편리성, 삶의 질\\n[/theme]\\n[issue]\\n큰 화면으로 OTT 시청, 이동 편리, 삶의 질 향상\\n[/issue]\\n[sentiment]\\n화면 크기: 긍정, 이동 편리성: 긍정, 삶의 질: 긍정\\n[/sentiment]\\n[sentiment(all)]\\n긍정\\n[/sentiment(all)]'}]}\n"
     ]
    }
   ],
   "source": [
    "import jsonlines\n",
    "\n",
    "# JSONL 파일 경로\n",
    "jsonl_file_path = 'data/trainset_fine_tuning.jsonl'\n",
    "\n",
    "# 읽기 모드로 JSONL 파일 열기\n",
    "with jsonlines.open(jsonl_file_path, 'r') as reader:\n",
    "    # Convert the reader object into an iterator\n",
    "    reader = iter(reader)\n",
    "    \n",
    "    # 첫 번째 줄의 데이터를 읽어와 출력\n",
    "    first_line = next(reader)\n",
    "    print(first_line)"
   ]
  },
  {
   "cell_type": "code",
   "execution_count": null,
   "metadata": {},
   "outputs": [],
   "source": []
  }
 ],
 "metadata": {
  "kernelspec": {
   "display_name": "pap",
   "language": "python",
   "name": "python3"
  },
  "language_info": {
   "codemirror_mode": {
    "name": "ipython",
    "version": 3
   },
   "file_extension": ".py",
   "mimetype": "text/x-python",
   "name": "python",
   "nbconvert_exporter": "python",
   "pygments_lexer": "ipython3",
   "version": "3.10.13"
  }
 },
 "nbformat": 4,
 "nbformat_minor": 2
}
